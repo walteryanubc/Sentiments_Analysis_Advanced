{
 "cells": [
  {
   "cell_type": "code",
   "execution_count": null,
   "id": "1191aace",
   "metadata": {
    "execution": {
     "iopub.execute_input": "2022-12-21T08:07:17.186497Z",
     "iopub.status.busy": "2022-12-21T08:07:17.185713Z",
     "iopub.status.idle": "2022-12-21T08:07:36.631951Z",
     "shell.execute_reply": "2022-12-21T08:07:36.630592Z",
     "shell.execute_reply.started": "2022-12-21T07:35:05.406090Z"
    },
    "papermill": {
     "duration": 19.558927,
     "end_time": "2022-12-21T08:07:36.632332",
     "exception": false,
     "start_time": "2022-12-21T08:07:17.073405",
     "status": "completed"
    },
    "tags": []
   },
   "outputs": [],
   "source": [
    "# Loading modules\n",
    "!pip install keras visualkeras tensorflow_hub cufflinks plotly_express graphviz pydot pydotplus"
   ]
  },
  {
   "cell_type": "code",
   "execution_count": null,
   "id": "0d36d092",
   "metadata": {
    "_cell_guid": "b1076dfc-b9ad-4769-8c92-a6c4dae69d19",
    "_uuid": "8f2839f25d086af736a60e9eeb907d3b93b6e0e5",
    "execution": {
     "iopub.execute_input": "2022-12-21T08:07:36.804484Z",
     "iopub.status.busy": "2022-12-21T08:07:36.803896Z",
     "iopub.status.idle": "2022-12-21T08:07:47.986789Z",
     "shell.execute_reply": "2022-12-21T08:07:47.986136Z",
     "shell.execute_reply.started": "2022-12-21T07:35:26.337337Z"
    },
    "papermill": {
     "duration": 11.264672,
     "end_time": "2022-12-21T08:07:47.986931",
     "exception": false,
     "start_time": "2022-12-21T08:07:36.722259",
     "status": "completed"
    },
    "tags": []
   },
   "outputs": [],
   "source": [
    "# This Python 3 environment comes with many helpful analytics libraries installed\n",
    "# It is defined by the kaggle/python Docker image: https://github.com/kaggle/docker-python\n",
    "# For example, here's several helpful packages to load\n",
    "\n",
    "import pandas as pd\n",
    "import numpy as np\n",
    "import seaborn as sns\n",
    "import matplotlib.pyplot as plt\n",
    "from wordcloud import WordCloud, STOPWORDS\n",
    "from nltk.stem import PorterStemmer\n",
    "from nltk.stem import WordNetLemmatizer\n",
    "import re\n",
    "import warnings\n",
    "import string\n",
    "import nltk\n",
    "from nltk.corpus import stopwords\n",
    "from tensorflow import keras\n",
    "import gensim.models\n",
    "from sklearn.preprocessing import LabelEncoder, LabelBinarizer\n",
    "import tensorflow as tf\n",
    "from tensorflow.keras import initializers, preprocessing\n",
    "import tensorflow_hub as hub\n",
    "from tensorflow.keras.applications.xception import Xception\n",
    "from tensorflow.keras.preprocessing import image\n",
    "from tensorflow.keras.applications.resnet50 import preprocess_input, decode_predictions\n",
    "import numpy as np\n",
    "from sklearn.metrics import confusion_matrix, plot_confusion_matrix, f1_score, ConfusionMatrixDisplay, accuracy_score, roc_auc_score\n",
    "from sklearn.model_selection import train_test_split\n",
    "from sklearn.metrics import roc_curve, plot_roc_curve\n",
    "from tensorflow.keras.preprocessing.text import Tokenizer\n",
    "from tensorflow.keras.preprocessing.sequence import pad_sequences\n",
    "import pickle\n",
    "\n",
    "# Input data files are available in the read-only \"../input/\" directory\n",
    "# For example, running this (by clicking run or pressing Shift+Enter) will list all files under the input directory\n",
    "\n",
    "import os\n",
    "for dirname, _, filenames in os.walk('/input'):\n",
    "    for filename in filenames:\n",
    "        print(os.path.join(dirname, filename))\n",
    "\n",
    "# You can write up to 20GB to the current directory (/kaggle/working/) that gets preserved as output when you create a version using \"Save & Run All\" \n",
    "# You can also write temporary files to /kaggle/temp/, but they won't be saved outside of the current session"
   ]
  },
  {
   "cell_type": "code",
   "execution_count": null,
   "id": "41cc68fe",
   "metadata": {
    "execution": {
     "iopub.execute_input": "2022-12-21T08:07:48.329598Z",
     "iopub.status.busy": "2022-12-21T08:07:48.328968Z",
     "iopub.status.idle": "2022-12-21T08:07:49.184676Z",
     "shell.execute_reply": "2022-12-21T08:07:49.184007Z",
     "shell.execute_reply.started": "2022-12-21T07:35:35.735739Z"
    },
    "papermill": {
     "duration": 0.941817,
     "end_time": "2022-12-21T08:07:49.184819",
     "exception": false,
     "start_time": "2022-12-21T08:07:48.243002",
     "status": "completed"
    },
    "tags": []
   },
   "outputs": [],
   "source": [
    "# Loading data\n",
    "df_reddit = pd.read_csv('Reddit_Data.csv')\n",
    "df_twitter = pd.read_csv('Twitter_Data.csv')"
   ]
  },
  {
   "cell_type": "markdown",
   "id": "23cfdbab",
   "metadata": {},
   "source": [
    "Exploratory Data Analysis (EDA)"
   ]
  },
  {
   "cell_type": "code",
   "execution_count": null,
   "id": "ff2acaa3",
   "metadata": {
    "execution": {
     "iopub.execute_input": "2022-12-21T08:07:50.275066Z",
     "iopub.status.busy": "2022-12-21T08:07:50.274529Z",
     "iopub.status.idle": "2022-12-21T08:07:50.279042Z",
     "shell.execute_reply": "2022-12-21T08:07:50.279476Z",
     "shell.execute_reply.started": "2022-12-21T07:35:45.339840Z"
    },
    "papermill": {
     "duration": 0.090572,
     "end_time": "2022-12-21T08:07:50.279650",
     "exception": false,
     "start_time": "2022-12-21T08:07:50.189078",
     "status": "completed"
    },
    "tags": []
   },
   "outputs": [],
   "source": [
    "# Renaming cloumn\n",
    "df_twitter.rename(columns = {'clean_text':'clean_comment'}, inplace = True)"
   ]
  },
  {
   "cell_type": "code",
   "execution_count": null,
   "id": "486aa683",
   "metadata": {
    "execution": {
     "iopub.execute_input": "2022-12-21T08:07:50.581079Z",
     "iopub.status.busy": "2022-12-21T08:07:50.580323Z",
     "iopub.status.idle": "2022-12-21T08:07:50.587796Z",
     "shell.execute_reply": "2022-12-21T08:07:50.588216Z",
     "shell.execute_reply.started": "2022-12-21T07:35:47.731163Z"
    },
    "papermill": {
     "duration": 0.08549,
     "end_time": "2022-12-21T08:07:50.588367",
     "exception": false,
     "start_time": "2022-12-21T08:07:50.502877",
     "status": "completed"
    },
    "tags": []
   },
   "outputs": [],
   "source": [
    "# Shape of Data\n",
    "df_twitter.shape,  df_reddit.shape"
   ]
  },
  {
   "cell_type": "code",
   "execution_count": null,
   "id": "2f47a0b1",
   "metadata": {
    "execution": {
     "iopub.execute_input": "2022-12-21T08:07:51.206787Z",
     "iopub.status.busy": "2022-12-21T08:07:51.206258Z",
     "iopub.status.idle": "2022-12-21T08:07:51.228137Z",
     "shell.execute_reply": "2022-12-21T08:07:51.227680Z",
     "shell.execute_reply.started": "2022-12-21T07:35:50.336313Z"
    },
    "papermill": {
     "duration": 0.10316,
     "end_time": "2022-12-21T08:07:51.228268",
     "exception": false,
     "start_time": "2022-12-21T08:07:51.125108",
     "status": "completed"
    },
    "scrolled": true,
    "tags": []
   },
   "outputs": [],
   "source": [
    "# Merging Twitter and Reddit Data\n",
    "df = df_reddit.append(df_twitter).reset_index()"
   ]
  },
  {
   "cell_type": "markdown",
   "id": "2fdf317b",
   "metadata": {},
   "source": [
    "Visualization of Ratio Of Categorical Plots"
   ]
  },
  {
   "cell_type": "code",
   "execution_count": null,
   "id": "e393c0c0",
   "metadata": {
    "execution": {
     "iopub.execute_input": "2022-12-21T08:07:51.841976Z",
     "iopub.status.busy": "2022-12-21T08:07:51.839308Z",
     "iopub.status.idle": "2022-12-21T08:07:58.803273Z",
     "shell.execute_reply": "2022-12-21T08:07:58.803839Z",
     "shell.execute_reply.started": "2022-12-21T07:35:53.815344Z"
    },
    "papermill": {
     "duration": 7.040394,
     "end_time": "2022-12-21T08:07:58.804009",
     "exception": false,
     "start_time": "2022-12-21T08:07:51.763615",
     "status": "completed"
    },
    "tags": []
   },
   "outputs": [],
   "source": [
    "# Histogram Plot\n",
    "import cufflinks as cf\n",
    "cf.go_offline()\n",
    "cf.set_config_file(offline=False, world_readable=True)\n",
    "\n",
    "df['category'].iplot(\n",
    "    kind='hist',\n",
    "    xTitle='Categories',\n",
    "    linecolor='black',\n",
    "    yTitle='count',\n",
    "    title='Category Distribution')"
   ]
  },
  {
   "cell_type": "code",
   "execution_count": null,
   "id": "598d6d4b",
   "metadata": {
    "execution": {
     "iopub.execute_input": "2022-12-21T08:08:01.116404Z",
     "iopub.status.busy": "2022-12-21T08:08:01.050204Z",
     "iopub.status.idle": "2022-12-21T08:08:04.289262Z",
     "shell.execute_reply": "2022-12-21T08:08:04.290166Z",
     "shell.execute_reply.started": "2022-12-21T07:35:59.665674Z"
    },
    "papermill": {
     "duration": 3.891728,
     "end_time": "2022-12-21T08:08:04.290338",
     "exception": false,
     "start_time": "2022-12-21T08:08:00.398610",
     "status": "completed"
    },
    "tags": []
   },
   "outputs": [],
   "source": [
    "# String Length Distribution\n",
    "pd.DataFrame(df['clean_comment'].str.len())['clean_comment'].iplot(\n",
    "    kind='hist',\n",
    "    bins=70,\n",
    "    xTitle='String length',\n",
    "    linecolor='black',\n",
    "    yTitle='count',\n",
    "    title='String Length Distribution')"
   ]
  },
  {
   "cell_type": "code",
   "execution_count": null,
   "id": "c1aaa867",
   "metadata": {
    "execution": {
     "iopub.execute_input": "2022-12-21T08:08:08.040583Z",
     "iopub.status.busy": "2022-12-21T08:08:08.039734Z",
     "iopub.status.idle": "2022-12-21T08:08:12.798718Z",
     "shell.execute_reply": "2022-12-21T08:08:12.799566Z",
     "shell.execute_reply.started": "2022-12-21T07:36:02.493858Z"
    },
    "papermill": {
     "duration": 5.724786,
     "end_time": "2022-12-21T08:08:12.799740",
     "exception": false,
     "start_time": "2022-12-21T08:08:07.074954",
     "status": "completed"
    },
    "tags": []
   },
   "outputs": [],
   "source": [
    "# Word Count Distribution\n",
    "df['word_count'] = df['clean_comment'].str.split().str.len()\n",
    "df['word_count'].iplot(\n",
    "    kind='hist',\n",
    "    bins=70,\n",
    "    xTitle='String length',\n",
    "    linecolor='black',\n",
    "    yTitle='count',\n",
    "    title='Word Count Distribution')"
   ]
  },
  {
   "cell_type": "code",
   "execution_count": null,
   "id": "585522a4",
   "metadata": {
    "execution": {
     "iopub.execute_input": "2022-12-21T08:08:18.260593Z",
     "iopub.status.busy": "2022-12-21T08:08:18.259805Z",
     "iopub.status.idle": "2022-12-21T08:08:28.770413Z",
     "shell.execute_reply": "2022-12-21T08:08:28.770861Z",
     "shell.execute_reply.started": "2022-12-21T07:36:06.358158Z"
    },
    "papermill": {
     "duration": 11.920575,
     "end_time": "2022-12-21T08:08:28.771012",
     "exception": false,
     "start_time": "2022-12-21T08:08:16.850437",
     "status": "completed"
    },
    "tags": []
   },
   "outputs": [],
   "source": [
    "# Top Word Distribution\n",
    "from sklearn.feature_extraction.text import CountVectorizer\n",
    "\n",
    "def get_top_n_words(corpus, n=None):\n",
    "    vec = CountVectorizer().fit(corpus)\n",
    "    bag_of_words = vec.transform(corpus)\n",
    "    sum_words = bag_of_words.sum(axis=0) \n",
    "    words_freq = [(word, sum_words[0, idx]) for word, idx in vec.vocabulary_.items()]\n",
    "    words_freq =sorted(words_freq, key = lambda x: x[1], reverse=True)\n",
    "    return words_freq[:n]\n",
    "\n",
    "\n",
    "common_words = get_top_n_words(df['clean_comment'].dropna().tolist(), 20)\n",
    "df1 = pd.DataFrame(common_words, columns = ['ReviewText' , 'count'])\n",
    "df1.groupby('ReviewText').sum()['count'].sort_values(ascending=False).iplot(\n",
    "    kind='bar', yTitle='Count', linecolor='black', title='Top 20 words Combined')"
   ]
  },
  {
   "cell_type": "code",
   "execution_count": null,
   "id": "3819bac5",
   "metadata": {
    "execution": {
     "iopub.execute_input": "2022-12-21T08:08:34.205370Z",
     "iopub.status.busy": "2022-12-21T08:08:34.203701Z",
     "iopub.status.idle": "2022-12-21T08:08:34.498263Z",
     "shell.execute_reply": "2022-12-21T08:08:34.498737Z",
     "shell.execute_reply.started": "2022-12-21T07:36:15.105902Z"
    },
    "papermill": {
     "duration": 1.631189,
     "end_time": "2022-12-21T08:08:34.498946",
     "exception": false,
     "start_time": "2022-12-21T08:08:32.867757",
     "status": "completed"
    },
    "tags": []
   },
   "outputs": [],
   "source": [
    "# Sample Comment Distribution\n",
    "import plotly_express as px\n",
    "\n",
    "fig = px.histogram(df.head(500), x='clean_comment', color='category', histfunc='count')\n",
    "fig.update_layout(\n",
    "    title='text (first 500 rows) histogram', \n",
    "    xaxis = dict(\n",
    "        showgrid=True, \n",
    "        rangeslider = dict(\n",
    "            visible=True, \n",
    "            thickness=0.05\n",
    "        )\n",
    "    ), \n",
    "    yaxis = dict(\n",
    "        showgrid=True\n",
    "    ), \n",
    "    legend = dict(\n",
    "        orientation='v'\n",
    "    ), \n",
    "    barmode='group', \n",
    "    paper_bgcolor='#FFFFFF'\n",
    ")\n",
    "fig.show(renderer=\"iframe\")"
   ]
  },
  {
   "cell_type": "markdown",
   "id": "d7754207",
   "metadata": {},
   "source": [
    "Target Distribution"
   ]
  },
  {
   "cell_type": "code",
   "execution_count": null,
   "id": "cd0e2f1a",
   "metadata": {
    "execution": {
     "iopub.execute_input": "2022-12-21T08:08:39.976837Z",
     "iopub.status.busy": "2022-12-21T08:08:39.975473Z",
     "iopub.status.idle": "2022-12-21T08:08:40.296486Z",
     "shell.execute_reply": "2022-12-21T08:08:40.297027Z",
     "shell.execute_reply.started": "2022-12-21T07:36:15.326118Z"
    },
    "papermill": {
     "duration": 1.699547,
     "end_time": "2022-12-21T08:08:40.297198",
     "exception": false,
     "start_time": "2022-12-21T08:08:38.597651",
     "status": "completed"
    },
    "tags": []
   },
   "outputs": [],
   "source": [
    "import matplotlib.pyplot as plt\n",
    "import seaborn as sns\n",
    "\n",
    "locations_vc = df[\"category\"].value_counts()\n",
    "sns.displot(y=locations_vc.index, x=locations_vc)\n",
    "plt.title(\"target\")\n",
    "plt.show()"
   ]
  },
  {
   "cell_type": "code",
   "execution_count": null,
   "id": "045b14b1",
   "metadata": {
    "execution": {
     "iopub.execute_input": "2022-12-21T08:08:42.959010Z",
     "iopub.status.busy": "2022-12-21T08:08:42.958458Z",
     "iopub.status.idle": "2022-12-21T08:08:43.503649Z",
     "shell.execute_reply": "2022-12-21T08:08:43.504077Z",
     "shell.execute_reply.started": "2022-12-21T07:36:15.583630Z"
    },
    "papermill": {
     "duration": 1.882949,
     "end_time": "2022-12-21T08:08:43.504254",
     "exception": false,
     "start_time": "2022-12-21T08:08:41.621305",
     "status": "completed"
    },
    "tags": []
   },
   "outputs": [],
   "source": [
    "sns.kdeplot(df[df['category'] == -1]['clean_comment'].str.len(), shade=True, color='red')"
   ]
  },
  {
   "cell_type": "code",
   "execution_count": null,
   "id": "9d0dd2b3",
   "metadata": {
    "execution": {
     "iopub.execute_input": "2022-12-21T08:08:46.231599Z",
     "iopub.status.busy": "2022-12-21T08:08:46.230997Z",
     "iopub.status.idle": "2022-12-21T08:08:46.931119Z",
     "shell.execute_reply": "2022-12-21T08:08:46.930646Z",
     "shell.execute_reply.started": "2022-12-21T07:36:16.057890Z"
    },
    "papermill": {
     "duration": 2.056326,
     "end_time": "2022-12-21T08:08:46.931239",
     "exception": false,
     "start_time": "2022-12-21T08:08:44.874913",
     "status": "completed"
    },
    "tags": []
   },
   "outputs": [],
   "source": [
    "sns.kdeplot(df[df['category'] == 0]['clean_comment'].str.len(), shade=True, color= 'blue')"
   ]
  },
  {
   "cell_type": "code",
   "execution_count": null,
   "id": "384577b8",
   "metadata": {
    "execution": {
     "iopub.execute_input": "2022-12-21T08:08:49.619554Z",
     "iopub.status.busy": "2022-12-21T08:08:49.618963Z",
     "iopub.status.idle": "2022-12-21T08:08:50.547208Z",
     "shell.execute_reply": "2022-12-21T08:08:50.546722Z",
     "shell.execute_reply.started": "2022-12-21T07:36:16.676800Z"
    },
    "papermill": {
     "duration": 2.263837,
     "end_time": "2022-12-21T08:08:50.547409",
     "exception": false,
     "start_time": "2022-12-21T08:08:48.283572",
     "status": "completed"
    },
    "tags": []
   },
   "outputs": [],
   "source": [
    "sns.kdeplot(df[df['category'] == 1]['clean_comment'].str.len(), shade=True, color= 'green')"
   ]
  },
  {
   "cell_type": "code",
   "execution_count": null,
   "id": "2489c162",
   "metadata": {
    "execution": {
     "iopub.execute_input": "2022-12-21T08:08:56.128128Z",
     "iopub.status.busy": "2022-12-21T08:08:56.127508Z",
     "iopub.status.idle": "2022-12-21T08:08:57.062313Z",
     "shell.execute_reply": "2022-12-21T08:08:57.062889Z",
     "shell.execute_reply.started": "2022-12-21T07:36:17.413853Z"
    },
    "papermill": {
     "duration": 2.373354,
     "end_time": "2022-12-21T08:08:57.063109",
     "exception": false,
     "start_time": "2022-12-21T08:08:54.689755",
     "status": "completed"
    },
    "tags": []
   },
   "outputs": [],
   "source": [
    "# Target Distribution Heatmaps\n",
    "import plotly.express as px\n",
    "# Construct the graph and style it. Further customize your graph by editing this code.\n",
    "# See Plotly Documentation for help: https://plotly.com/python/plotly-express/\n",
    "fig = px.density_heatmap(df, x='category')\n",
    "fig.update_layout(\n",
    "    title='label density heatmap', \n",
    "    xaxis = dict(\n",
    "        showgrid=True, \n",
    "        rangeslider = dict(\n",
    "            visible=True, \n",
    "            thickness=0.05\n",
    "        )\n",
    "    ), \n",
    "    yaxis = dict(\n",
    "        showgrid=True\n",
    "    ), \n",
    "    legend = dict(\n",
    "        orientation='v'\n",
    "    ), \n",
    "    paper_bgcolor='#FFFFFF'\n",
    ")\n",
    "fig.show(renderer=\"iframe\")"
   ]
  },
  {
   "cell_type": "code",
   "execution_count": null,
   "id": "21ec72d9",
   "metadata": {
    "execution": {
     "iopub.execute_input": "2022-12-21T08:09:13.322157Z",
     "iopub.status.busy": "2022-12-21T08:09:13.321610Z",
     "iopub.status.idle": "2022-12-21T08:09:13.326524Z",
     "shell.execute_reply": "2022-12-21T08:09:13.327036Z",
     "shell.execute_reply.started": "2022-12-21T07:36:18.172857Z"
    },
    "papermill": {
     "duration": 1.302267,
     "end_time": "2022-12-21T08:09:13.327197",
     "exception": false,
     "start_time": "2022-12-21T08:09:12.024930",
     "status": "completed"
    },
    "tags": []
   },
   "outputs": [],
   "source": [
    "# Define rename functino\n",
    "def rename(val):\n",
    "    if val == -1:\n",
    "        return \"Negative\"\n",
    "    elif val == 0:\n",
    "        return \"Neutral\"\n",
    "    elif val ==1:\n",
    "        return \"Positive\""
   ]
  },
  {
   "cell_type": "code",
   "execution_count": null,
   "id": "fd3432a1",
   "metadata": {
    "execution": {
     "iopub.execute_input": "2022-12-21T08:09:16.182681Z",
     "iopub.status.busy": "2022-12-21T08:09:16.181736Z",
     "iopub.status.idle": "2022-12-21T08:09:16.299039Z",
     "shell.execute_reply": "2022-12-21T08:09:16.298379Z",
     "shell.execute_reply.started": "2022-12-21T07:36:18.180269Z"
    },
    "papermill": {
     "duration": 1.660674,
     "end_time": "2022-12-21T08:09:16.299179",
     "exception": false,
     "start_time": "2022-12-21T08:09:14.638505",
     "status": "completed"
    },
    "tags": []
   },
   "outputs": [],
   "source": [
    "# Renaming Target Lables\n",
    "df['category'] = df['category'].apply(rename)\n",
    "#shuffling the data\n",
    "df = df.sample(frac=1)"
   ]
  },
  {
   "cell_type": "code",
   "execution_count": null,
   "id": "2773a3ce",
   "metadata": {
    "execution": {
     "iopub.execute_input": "2022-12-21T08:09:27.178833Z",
     "iopub.status.busy": "2022-12-21T08:09:27.178262Z",
     "iopub.status.idle": "2022-12-21T08:09:27.528963Z",
     "shell.execute_reply": "2022-12-21T08:09:27.528437Z",
     "shell.execute_reply.started": "2022-12-21T07:36:19.197876Z"
    },
    "papermill": {
     "duration": 1.729116,
     "end_time": "2022-12-21T08:09:27.529106",
     "exception": false,
     "start_time": "2022-12-21T08:09:25.799990",
     "status": "completed"
    },
    "tags": []
   },
   "outputs": [],
   "source": [
    "# Data description\n",
    "df[[\"clean_comment\", \"category\"]].describe(include='all')"
   ]
  },
  {
   "cell_type": "code",
   "execution_count": null,
   "id": "78c4fb91",
   "metadata": {
    "execution": {
     "iopub.execute_input": "2022-12-21T08:09:38.484710Z",
     "iopub.status.busy": "2022-12-21T08:09:38.482951Z",
     "iopub.status.idle": "2022-12-21T08:09:38.495533Z",
     "shell.execute_reply": "2022-12-21T08:09:38.495017Z",
     "shell.execute_reply.started": "2022-12-21T07:36:22.463824Z"
    },
    "papermill": {
     "duration": 1.471052,
     "end_time": "2022-12-21T08:09:38.495671",
     "exception": false,
     "start_time": "2022-12-21T08:09:37.024619",
     "status": "completed"
    },
    "tags": []
   },
   "outputs": [],
   "source": [
    "# Checking for Null Value\n",
    "df.isnull().sum()"
   ]
  },
  {
   "cell_type": "code",
   "execution_count": null,
   "id": "164a0a02",
   "metadata": {
    "execution": {
     "iopub.execute_input": "2022-12-21T08:09:46.560498Z",
     "iopub.status.busy": "2022-12-21T08:09:46.503224Z",
     "iopub.status.idle": "2022-12-21T08:09:46.585149Z",
     "shell.execute_reply": "2022-12-21T08:09:46.584634Z",
     "shell.execute_reply.started": "2022-12-21T07:36:25.604368Z"
    },
    "papermill": {
     "duration": 1.411713,
     "end_time": "2022-12-21T08:09:46.585281",
     "exception": false,
     "start_time": "2022-12-21T08:09:45.173568",
     "status": "completed"
    },
    "tags": []
   },
   "outputs": [],
   "source": [
    "# Dropping NULL\n",
    "df = df.dropna()\n",
    "df.shape"
   ]
  },
  {
   "cell_type": "code",
   "execution_count": null,
   "id": "9b825817",
   "metadata": {
    "execution": {
     "iopub.execute_input": "2022-12-21T08:09:52.159476Z",
     "iopub.status.busy": "2022-12-21T08:09:52.158252Z",
     "iopub.status.idle": "2022-12-21T08:09:52.180295Z",
     "shell.execute_reply": "2022-12-21T08:09:52.180804Z",
     "shell.execute_reply.started": "2022-12-21T07:36:29.672089Z"
    },
    "papermill": {
     "duration": 1.45459,
     "end_time": "2022-12-21T08:09:52.180974",
     "exception": false,
     "start_time": "2022-12-21T08:09:50.726384",
     "status": "completed"
    },
    "tags": []
   },
   "outputs": [],
   "source": [
    "# Abberveation Creation\n",
    "abbreviations = {\n",
    "    \"$\" : \" dollar \",\n",
    "    \"€\" : \" euro \",\n",
    "    \"4ao\" : \"for adults only\",\n",
    "    \"a.m\" : \"before midday\",\n",
    "    \"a3\" : \"anytime anywhere anyplace\",\n",
    "    \"aamof\" : \"as a matter of fact\",\n",
    "    \"acct\" : \"account\",\n",
    "    \"adih\" : \"another day in hell\",\n",
    "    \"afaic\" : \"as far as i am concerned\",\n",
    "    \"afaict\" : \"as far as i can tell\",\n",
    "    \"afaik\" : \"as far as i know\",\n",
    "    \"afair\" : \"as far as i remember\",\n",
    "    \"afk\" : \"away from keyboard\",\n",
    "    \"app\" : \"application\",\n",
    "    \"approx\" : \"approximately\",\n",
    "    \"apps\" : \"applications\",\n",
    "    \"asap\" : \"as soon as possible\",\n",
    "    \"asl\" : \"age, sex, location\",\n",
    "    \"atk\" : \"at the keyboard\",\n",
    "    \"ave.\" : \"avenue\",\n",
    "    \"aymm\" : \"are you my mother\",\n",
    "    \"ayor\" : \"at your own risk\", \n",
    "    \"b&b\" : \"bed and breakfast\",\n",
    "    \"b+b\" : \"bed and breakfast\",\n",
    "    \"b.c\" : \"before christ\",\n",
    "    \"b2b\" : \"business to business\",\n",
    "    \"b2c\" : \"business to customer\",\n",
    "    \"b4\" : \"before\",\n",
    "    \"b4n\" : \"bye for now\",\n",
    "    \"b@u\" : \"back at you\",\n",
    "    \"bae\" : \"before anyone else\",\n",
    "    \"bak\" : \"back at keyboard\",\n",
    "    \"bbbg\" : \"bye bye be good\",\n",
    "    \"bbc\" : \"british broadcasting corporation\",\n",
    "    \"bbias\" : \"be back in a second\",\n",
    "    \"bbl\" : \"be back later\",\n",
    "    \"bbs\" : \"be back soon\",\n",
    "    \"be4\" : \"before\",\n",
    "    \"bfn\" : \"bye for now\",\n",
    "    \"blvd\" : \"boulevard\",\n",
    "    \"bout\" : \"about\",\n",
    "    \"brb\" : \"be right back\",\n",
    "    \"bros\" : \"brothers\",\n",
    "    \"brt\" : \"be right there\",\n",
    "    \"bsaaw\" : \"big smile and a wink\",\n",
    "    \"btw\" : \"by the way\",\n",
    "    \"bwl\" : \"bursting with laughter\",\n",
    "    \"c/o\" : \"care of\",\n",
    "    \"cet\" : \"central european time\",\n",
    "    \"cf\" : \"compare\",\n",
    "    \"cia\" : \"central intelligence agency\",\n",
    "    \"csl\" : \"can not stop laughing\",\n",
    "    \"cu\" : \"see you\",\n",
    "    \"cul8r\" : \"see you later\",\n",
    "    \"cv\" : \"curriculum vitae\",\n",
    "    \"cwot\" : \"complete waste of time\",\n",
    "    \"cya\" : \"see you\",\n",
    "    \"cyt\" : \"see you tomorrow\",\n",
    "    \"dae\" : \"does anyone else\",\n",
    "    \"dbmib\" : \"do not bother me i am busy\",\n",
    "    \"diy\" : \"do it yourself\",\n",
    "    \"dm\" : \"direct message\",\n",
    "    \"dwh\" : \"during work hours\",\n",
    "    \"e123\" : \"easy as one two three\",\n",
    "    \"eet\" : \"eastern european time\",\n",
    "    \"eg\" : \"example\",\n",
    "    \"embm\" : \"early morning business meeting\",\n",
    "    \"encl\" : \"enclosed\",\n",
    "    \"encl.\" : \"enclosed\",\n",
    "    \"etc\" : \"and so on\",\n",
    "    \"faq\" : \"frequently asked questions\",\n",
    "    \"fawc\" : \"for anyone who cares\",\n",
    "    \"fb\" : \"facebook\",\n",
    "    \"fc\" : \"fingers crossed\",\n",
    "    \"fig\" : \"figure\",\n",
    "    \"fimh\" : \"forever in my heart\", \n",
    "    \"ft.\" : \"feet\",\n",
    "    \"ft\" : \"featuring\",\n",
    "    \"ftl\" : \"for the loss\",\n",
    "    \"ftw\" : \"for the win\",\n",
    "    \"fwiw\" : \"for what it is worth\",\n",
    "    \"fyi\" : \"for your information\",\n",
    "    \"g9\" : \"genius\",\n",
    "    \"gahoy\" : \"get a hold of yourself\",\n",
    "    \"gal\" : \"get a life\",\n",
    "    \"gcse\" : \"general certificate of secondary education\",\n",
    "    \"gfn\" : \"gone for now\",\n",
    "    \"gg\" : \"good game\",\n",
    "    \"gl\" : \"good luck\",\n",
    "    \"glhf\" : \"good luck have fun\",\n",
    "    \"gmt\" : \"greenwich mean time\",\n",
    "    \"gmta\" : \"great minds think alike\",\n",
    "    \"gn\" : \"good night\",\n",
    "    \"g.o.a.t\" : \"greatest of all time\",\n",
    "    \"goat\" : \"greatest of all time\",\n",
    "    \"goi\" : \"get over it\",\n",
    "    \"gps\" : \"global positioning system\",\n",
    "    \"gr8\" : \"great\",\n",
    "    \"gratz\" : \"congratulations\",\n",
    "    \"gyal\" : \"girl\",\n",
    "    \"h&c\" : \"hot and cold\",\n",
    "    \"hp\" : \"horsepower\",\n",
    "    \"hr\" : \"hour\",\n",
    "    \"hrh\" : \"his royal highness\",\n",
    "    \"ht\" : \"height\",\n",
    "    \"ibrb\" : \"i will be right back\",\n",
    "    \"ic\" : \"i see\",\n",
    "    \"icq\" : \"i seek you\",\n",
    "    \"icymi\" : \"in case you missed it\",\n",
    "    \"idc\" : \"i do not care\",\n",
    "    \"idgadf\" : \"i do not give a damn fuck\",\n",
    "    \"idgaf\" : \"i do not give a fuck\",\n",
    "    \"idk\" : \"i do not know\",\n",
    "    \"ie\" : \"that is\",\n",
    "    \"i.e\" : \"that is\",\n",
    "    \"ifyp\" : \"i feel your pain\",\n",
    "    \"IG\" : \"instagram\",\n",
    "    \"iirc\" : \"if i remember correctly\",\n",
    "    \"ilu\" : \"i love you\",\n",
    "    \"ily\" : \"i love you\",\n",
    "    \"imho\" : \"in my humble opinion\",\n",
    "    \"imo\" : \"in my opinion\",\n",
    "    \"imu\" : \"i miss you\",\n",
    "    \"iow\" : \"in other words\",\n",
    "    \"irl\" : \"in real life\",\n",
    "    \"j4f\" : \"just for fun\",\n",
    "    \"jic\" : \"just in case\",\n",
    "    \"jk\" : \"just kidding\",\n",
    "    \"jsyk\" : \"just so you know\",\n",
    "    \"l8r\" : \"later\",\n",
    "    \"lb\" : \"pound\",\n",
    "    \"lbs\" : \"pounds\",\n",
    "    \"ldr\" : \"long distance relationship\",\n",
    "    \"lmao\" : \"laugh my ass off\",\n",
    "    \"lmfao\" : \"laugh my fucking ass off\",\n",
    "    \"lol\" : \"laughing out loud\",\n",
    "    \"ltd\" : \"limited\",\n",
    "    \"ltns\" : \"long time no see\",\n",
    "    \"m8\" : \"mate\",\n",
    "    \"mf\" : \"motherfucker\",\n",
    "    \"mfs\" : \"motherfuckers\",\n",
    "    \"mfw\" : \"my face when\",\n",
    "    \"mofo\" : \"motherfucker\",\n",
    "    \"mph\" : \"miles per hour\",\n",
    "    \"mr\" : \"mister\",\n",
    "    \"mrw\" : \"my reaction when\",\n",
    "    \"ms\" : \"miss\",\n",
    "    \"mte\" : \"my thoughts exactly\",\n",
    "    \"nagi\" : \"not a good idea\",\n",
    "    \"nbc\" : \"national broadcasting company\",\n",
    "    \"nbd\" : \"not big deal\",\n",
    "    \"nfs\" : \"not for sale\",\n",
    "    \"ngl\" : \"not going to lie\",\n",
    "    \"nhs\" : \"national health service\",\n",
    "    \"nrn\" : \"no reply necessary\",\n",
    "    \"nsfl\" : \"not safe for life\",\n",
    "    \"nsfw\" : \"not safe for work\",\n",
    "    \"nth\" : \"nice to have\",\n",
    "    \"nvr\" : \"never\",\n",
    "    \"nyc\" : \"new york city\",\n",
    "    \"oc\" : \"original content\",\n",
    "    \"og\" : \"original\",\n",
    "    \"ohp\" : \"overhead projector\",\n",
    "    \"oic\" : \"oh i see\",\n",
    "    \"omdb\" : \"over my dead body\",\n",
    "    \"omg\" : \"oh my god\",\n",
    "    \"omw\" : \"on my way\",\n",
    "    \"p.a\" : \"per annum\",\n",
    "    \"p.m\" : \"after midday\",\n",
    "    \"pm\" : \"prime minister\",\n",
    "    \"poc\" : \"people of color\",\n",
    "    \"pov\" : \"point of view\",\n",
    "    \"pp\" : \"pages\",\n",
    "    \"ppl\" : \"people\",\n",
    "    \"prw\" : \"parents are watching\",\n",
    "    \"ps\" : \"postscript\",\n",
    "    \"pt\" : \"point\",\n",
    "    \"ptb\" : \"please text back\",\n",
    "    \"pto\" : \"please turn over\",\n",
    "    \"qpsa\" : \"what happens\", #\"que pasa\",\n",
    "    \"ratchet\" : \"rude\",\n",
    "    \"rbtl\" : \"read between the lines\",\n",
    "    \"rlrt\" : \"real life retweet\", \n",
    "    \"rofl\" : \"rolling on the floor laughing\",\n",
    "    \"roflol\" : \"rolling on the floor laughing out loud\",\n",
    "    \"rotflmao\" : \"rolling on the floor laughing my ass off\",\n",
    "    \"rt\" : \"retweet\",\n",
    "    \"ruok\" : \"are you ok\",\n",
    "    \"sfw\" : \"safe for work\",\n",
    "    \"sk8\" : \"skate\",\n",
    "    \"smh\" : \"shake my head\",\n",
    "    \"sq\" : \"square\",\n",
    "    \"srsly\" : \"seriously\", \n",
    "    \"ssdd\" : \"same stuff different day\",\n",
    "    \"tbh\" : \"to be honest\",\n",
    "    \"tbs\" : \"tablespooful\",\n",
    "    \"tbsp\" : \"tablespooful\",\n",
    "    \"tfw\" : \"that feeling when\",\n",
    "    \"thks\" : \"thank you\",\n",
    "    \"tho\" : \"though\",\n",
    "    \"thx\" : \"thank you\",\n",
    "    \"tia\" : \"thanks in advance\",\n",
    "    \"til\" : \"today i learned\",\n",
    "    \"tl;dr\" : \"too long i did not read\",\n",
    "    \"tldr\" : \"too long i did not read\",\n",
    "    \"tmb\" : \"tweet me back\",\n",
    "    \"tntl\" : \"trying not to laugh\",\n",
    "    \"ttyl\" : \"talk to you later\",\n",
    "    \"u\" : \"you\",\n",
    "    \"u2\" : \"you too\",\n",
    "    \"u4e\" : \"yours for ever\",\n",
    "    \"utc\" : \"coordinated universal time\",\n",
    "    \"w/\" : \"with\",\n",
    "    \"w/o\" : \"without\",\n",
    "    \"w8\" : \"wait\",\n",
    "    \"wassup\" : \"what is up\",\n",
    "    \"wb\" : \"welcome back\",\n",
    "    \"wtf\" : \"what the fuck\",\n",
    "    \"wtg\" : \"way to go\",\n",
    "    \"wtpa\" : \"where the party at\",\n",
    "    \"wuf\" : \"where are you from\",\n",
    "    \"wuzup\" : \"what is up\",\n",
    "    \"wywh\" : \"wish you were here\",\n",
    "    \"yd\" : \"yard\",\n",
    "    \"ygtr\" : \"you got that right\",\n",
    "    \"ynk\" : \"you never know\",\n",
    "    \"zzz\" : \"sleeping bored and tired\"\n",
    "}"
   ]
  },
  {
   "cell_type": "code",
   "execution_count": null,
   "id": "3293effd",
   "metadata": {
    "execution": {
     "iopub.execute_input": "2022-12-21T08:10:00.388855Z",
     "iopub.status.busy": "2022-12-21T08:10:00.388221Z",
     "iopub.status.idle": "2022-12-21T08:10:02.702447Z",
     "shell.execute_reply": "2022-12-21T08:10:02.702892Z",
     "shell.execute_reply.started": "2022-12-21T07:36:35.603918Z"
    },
    "papermill": {
     "duration": 3.717937,
     "end_time": "2022-12-21T08:10:02.703061",
     "exception": false,
     "start_time": "2022-12-21T08:09:58.985124",
     "status": "completed"
    },
    "tags": []
   },
   "outputs": [],
   "source": [
    "#Generating Word Coud\n",
    "\n",
    "token = list(abbreviations.keys())\n",
    "comment_words = ''\n",
    "stopWords = set(STOPWORDS)\n",
    "\n",
    "\n",
    "for i in range(len(token)):\n",
    "    token[i] = token[i].lower()\n",
    "      \n",
    "    comment_words += \" \".join(token)+\" \"\n",
    "    \n",
    "wordcloud = WordCloud(width = 800, height = 800,\n",
    "                background_color ='white',\n",
    "                stopwords = stopWords,\n",
    "                min_font_size = 10).generate(comment_words)\n",
    "  \n",
    "# plot the WordCloud image                       \n",
    "plt.figure(figsize = (8, 8), facecolor = None)\n",
    "plt.imshow(wordcloud)\n",
    "plt.axis(\"off\")\n",
    "plt.tight_layout(pad = 0)\n",
    "  \n",
    "plt.show()"
   ]
  },
  {
   "cell_type": "markdown",
   "id": "55d4b50a",
   "metadata": {},
   "source": [
    "Filters"
   ]
  },
  {
   "cell_type": "code",
   "execution_count": null,
   "id": "b9fe745d",
   "metadata": {
    "execution": {
     "iopub.execute_input": "2022-12-21T08:10:13.780060Z",
     "iopub.status.busy": "2022-12-21T08:10:13.779201Z",
     "iopub.status.idle": "2022-12-21T08:10:13.795186Z",
     "shell.execute_reply": "2022-12-21T08:10:13.795655Z",
     "shell.execute_reply.started": "2022-12-21T07:36:38.778632Z"
    },
    "papermill": {
     "duration": 1.334334,
     "end_time": "2022-12-21T08:10:13.795822",
     "exception": false,
     "start_time": "2022-12-21T08:10:12.461488",
     "status": "completed"
    },
    "tags": []
   },
   "outputs": [],
   "source": [
    "# Remove all URLs, replace by URL\n",
    "def remove_URL(text):\n",
    "    url = re.compile(r'https?://\\S+|www\\.\\S+')\n",
    "    return url.sub(r'URL',str(text))\n",
    "\n",
    "\n",
    "# Remove HTML beacon\n",
    "def remove_HTML(text):\n",
    "    html=re.compile(r'<.*?>')\n",
    "    return html.sub(r'',text)\n",
    "\n",
    "# Remove non printable characters\n",
    "def remove_not_ASCII(text):\n",
    "    text = ''.join([word for word in text if word in string.printable])\n",
    "    return text\n",
    "\n",
    "# Change an abbreviation by its true meaning\n",
    "def word_abbrev(word):\n",
    "    return abbreviations[word.lower()] if word.lower() in abbreviations.keys() else word\n",
    "\n",
    "# Replace all abbreviations\n",
    "def replace_abbrev(text):\n",
    "    string = \"\"\n",
    "    for word in text.split():\n",
    "        string += word_abbrev(word) + \" \"        \n",
    "    return string\n",
    "\n",
    "# Remove @ and mention, replace by USER\n",
    "def remove_mention(text):\n",
    "    at=re.compile(r'@\\S+')\n",
    "    return at.sub(r'USER',text)\n",
    "                     \n",
    "\n",
    "# Remove numbers, replace it by NUMBER\n",
    "def remove_number(text):\n",
    "    num = re.compile(r'[-+]?[.\\d]*[\\d]+[:,.\\d]*')\n",
    "    return num.sub(r'NUMBER', text)\n",
    "\n",
    "\n",
    "\n",
    "# Replace some others smileys with SADFACE\n",
    "def transcription_sad(text):\n",
    "    eyes = \"[8:=;]\"\n",
    "    nose = \"['`\\-]\"\n",
    "    smiley = re.compile(r'[8:=;][\\'\\-]?[(\\\\/]')\n",
    "    return smiley.sub(r'SADFACE', text)\n",
    "\n",
    "\n",
    "# Replace some smileys with SMILE\n",
    "def transcription_smile(text):\n",
    "    eyes = \"[8:=;]\"\n",
    "    nose = \"['`\\-]\"\n",
    "    smiley = re.compile(r'[8:=;][\\'\\-]?[)dDp]')\n",
    "    #smiley = re.compile(r'#{eyes}#{nose}[)d]+|[)d]+#{nose}#{eyes}/i')\n",
    "    return smiley.sub(r'SMILE', text)\n",
    "\n",
    "\n",
    "# Replace <3 with HEART\n",
    "def transcription_heart(text):\n",
    "    heart = re.compile(r'<3')\n",
    "    return heart.sub(r'HEART', text)\n",
    "\n",
    "\n",
    "# Factorize elongated words, add ELONG\n",
    "def remove_elongated_words(text):\n",
    "    rep = re.compile(r'\\b(\\S*?)([a-z])\\2{2,}\\b')\n",
    "    return rep.sub(r'\\1\\2 ELONG', text)\n",
    "\n",
    "\n",
    "# Factorize repeated punctuation, add REPEAT\n",
    "def remove_repeat_punct(text):\n",
    "    rep = re.compile(r'([!?.]){2,}')\n",
    "    return rep.sub(r'\\1 REPEAT', text)\n",
    "\n",
    "\n",
    "\n",
    "# Remove all punctuations\n",
    "def remove_all_punct(text):\n",
    "    table = str.maketrans('','',string.punctuation)\n",
    "    return text.translate(table)\n",
    "\n",
    "\n",
    "# Remove punctuations\n",
    "def remove_punct(text):\n",
    "    punctuations = '@#!?+&*[]-%.:/();$=><|{}^' + \"'`\" \n",
    "    for p in punctuations:\n",
    "        text = text.replace(p, f' {p} ')\n",
    "\n",
    "    text = text.replace('...', ' ... ')\n",
    "    if '...' not in text:\n",
    "        text = text.replace('..', ' ... ')   \n",
    "    return text\n",
    "\n",
    "\n",
    "# Remove all english stopwords\n",
    "def remove_stopwords(text):\n",
    "    text = ' '.join([word for word in text.split() if word not in stopwords.words(\"english\")])\n",
    "    return text\n",
    "\n",
    "def stemming(text):\n",
    "    ps = PorterStemmer()\n",
    "    text = ' '.join([ps.stem(word) for word in text.split()])\n",
    "    return text\n",
    "\n",
    "def lemmatization(text):\n",
    "    lm= WordNetLemmatizer()\n",
    "    text = ' '.join([lm.lemmatize(word, pos='v') for word in text.split()])\n",
    "    return text\n"
   ]
  },
  {
   "cell_type": "code",
   "execution_count": null,
   "id": "735b2210",
   "metadata": {
    "execution": {
     "iopub.execute_input": "2022-12-21T08:10:16.563380Z",
     "iopub.status.busy": "2022-12-21T08:10:16.562309Z",
     "iopub.status.idle": "2022-12-21T08:10:16.564474Z",
     "shell.execute_reply": "2022-12-21T08:10:16.565113Z",
     "shell.execute_reply.started": "2022-12-21T07:36:42.467034Z"
    },
    "papermill": {
     "duration": 1.401826,
     "end_time": "2022-12-21T08:10:16.565297",
     "exception": false,
     "start_time": "2022-12-21T08:10:15.163471",
     "status": "completed"
    },
    "tags": []
   },
   "outputs": [],
   "source": [
    "def clean_text(text):\n",
    "    \n",
    "    # Remove non text\n",
    "    text = remove_URL(text)\n",
    "    text = remove_HTML(text)\n",
    "    text = remove_not_ASCII(text)\n",
    "    \n",
    "    # Lower text, replace abbreviations\n",
    "    text = replace_abbrev(text)  \n",
    "    text = remove_mention(text)\n",
    "    text = remove_number(text)\n",
    "    \n",
    "    # Remove  smileys\n",
    "\n",
    "    text = transcription_sad(text)\n",
    "    text = transcription_smile(text)\n",
    "    text = transcription_heart(text)\n",
    "    \n",
    "    # Remove repeated puntuations / words\n",
    "    text = remove_elongated_words(text)\n",
    "    text = remove_repeat_punct(text)\n",
    "\n",
    "    text = remove_all_punct(text)\n",
    "    text = remove_punct(text)\n",
    "    text = lemmatization(text)\n",
    "    text = text.lower()\n",
    "\n",
    "    return text"
   ]
  },
  {
   "cell_type": "code",
   "execution_count": null,
   "id": "37af01ef",
   "metadata": {
    "execution": {
     "iopub.execute_input": "2022-12-21T08:10:19.369114Z",
     "iopub.status.busy": "2022-12-21T08:10:19.368534Z",
     "iopub.status.idle": "2022-12-21T08:11:04.516755Z",
     "shell.execute_reply": "2022-12-21T08:11:04.513524Z",
     "shell.execute_reply.started": "2022-12-21T07:36:44.478561Z"
    },
    "papermill": {
     "duration": 46.504672,
     "end_time": "2022-12-21T08:11:04.517106",
     "exception": false,
     "start_time": "2022-12-21T08:10:18.012434",
     "status": "completed"
    },
    "tags": []
   },
   "outputs": [],
   "source": [
    "df[\"clean_comment\"] = df[\"clean_comment\"].apply(clean_text)"
   ]
  },
  {
   "cell_type": "code",
   "execution_count": null,
   "id": "3a7c8b2c",
   "metadata": {
    "execution": {
     "iopub.execute_input": "2022-12-21T08:11:10.222751Z",
     "iopub.status.busy": "2022-12-21T08:11:10.217197Z",
     "iopub.status.idle": "2022-12-21T08:11:10.273293Z",
     "shell.execute_reply": "2022-12-21T08:11:10.272843Z",
     "shell.execute_reply.started": "2022-12-21T07:37:21.542696Z"
    },
    "papermill": {
     "duration": 1.403558,
     "end_time": "2022-12-21T08:11:10.273497",
     "exception": false,
     "start_time": "2022-12-21T08:11:08.869939",
     "status": "completed"
    },
    "tags": []
   },
   "outputs": [],
   "source": [
    "# Calculate maximum sequence length\n",
    "g=[]\n",
    "for i in df['clean_comment']:\n",
    "    g.append(i)\n",
    "    \n",
    "maxl = max([len(s) for s in g])\n",
    "print ('Maximum sequence length in the list of sentences:', maxl)"
   ]
  },
  {
   "cell_type": "code",
   "execution_count": null,
   "id": "446e05ba",
   "metadata": {
    "execution": {
     "iopub.execute_input": "2022-12-21T08:11:19.329549Z",
     "iopub.status.busy": "2022-12-21T08:11:19.325780Z",
     "iopub.status.idle": "2022-12-21T08:11:26.067083Z",
     "shell.execute_reply": "2022-12-21T08:11:26.066609Z",
     "shell.execute_reply.started": "2022-12-21T07:37:21.639235Z"
    },
    "papermill": {
     "duration": 8.630159,
     "end_time": "2022-12-21T08:11:26.067272",
     "exception": false,
     "start_time": "2022-12-21T08:11:17.437113",
     "status": "completed"
    },
    "tags": []
   },
   "outputs": [],
   "source": [
    "# Tokenization\n",
    "tpu = tf.distribute.cluster_resolver.TPUClusterResolver.connect()\n",
    "tpu_strategy = tf.distribute.experimental.TPUStrategy(tpu)\n",
    "\n",
    "    tokenizer = Tokenizer(num_words=500000, filters='!\"#$%&()*+,-./:;<=>?@[\\]^_`{|}~', lower=True)\n",
    "    tokenizer.fit_on_texts(df['clean_comment'].values)\n",
    "    word_index = tokenizer.word_index\n",
    "    print('Found %s unique tokens.' % len(word_index))"
   ]
  },
  {
   "cell_type": "code",
   "execution_count": null,
   "id": "f9d999ae",
   "metadata": {},
   "outputs": [],
   "source": [
    "# saving tokenizer\n",
    "with open('tokenizer_LSTM.pkl', 'wb') as handle:\n",
    "    pickle.dump(tokenizer, handle, protocol=pickle.HIGHEST_PROTOCOL)"
   ]
  },
  {
   "cell_type": "code",
   "execution_count": null,
   "id": "8d15067a",
   "metadata": {
    "execution": {
     "iopub.execute_input": "2022-12-21T08:11:29.047865Z",
     "iopub.status.busy": "2022-12-21T08:11:29.047308Z",
     "iopub.status.idle": "2022-12-21T08:11:35.849700Z",
     "shell.execute_reply": "2022-12-21T08:11:35.848999Z",
     "shell.execute_reply.started": "2022-12-21T07:37:26.809095Z"
    },
    "papermill": {
     "duration": 8.308073,
     "end_time": "2022-12-21T08:11:35.849836",
     "exception": false,
     "start_time": "2022-12-21T08:11:27.541763",
     "status": "completed"
    },
    "tags": []
   },
   "outputs": [],
   "source": [
    "# Padding\n",
    "maxl = 3000\n",
    "X = tokenizer.texts_to_sequences(df['clean_comment'].values)\n",
    "X = pad_sequences(X, maxlen=maxl)"
   ]
  },
  {
   "cell_type": "code",
   "execution_count": null,
   "id": "655e5384",
   "metadata": {
    "execution": {
     "iopub.execute_input": "2022-12-21T08:11:42.490487Z",
     "iopub.status.busy": "2022-12-21T08:11:42.489856Z",
     "iopub.status.idle": "2022-12-21T08:11:42.512830Z",
     "shell.execute_reply": "2022-12-21T08:11:42.513421Z",
     "shell.execute_reply.started": "2022-12-21T07:37:32.114185Z"
    },
    "papermill": {
     "duration": 2.023356,
     "end_time": "2022-12-21T08:11:42.513593",
     "exception": false,
     "start_time": "2022-12-21T08:11:40.490237",
     "status": "completed"
    },
    "tags": []
   },
   "outputs": [],
   "source": [
    "# Transforming Target Label\n",
    "Y = pd.get_dummies(df['category'],columns=df[\"category\"]).values\n",
    "lb = LabelBinarizer().fit(list(set(df['category'].tolist())))"
   ]
  },
  {
   "cell_type": "code",
   "execution_count": null,
   "id": "ba12c918",
   "metadata": {},
   "outputs": [],
   "source": [
    "# Building the model achitecture\n",
    "model=tf.keras.models.Sequential()\n",
    "model.add(tf.keras.layers.Embedding(116601,100,input_length=maxl))\n",
    "model.add(tf.keras.layers.SpatialDropout1D(0.2))\n",
    "model.add(tf.keras.layers.LSTM(100, dropout=0.2, recurrent_dropout=0.2))\n",
    "model.add(tf.keras.layers.Dense(3, activation='softmax'))\n",
    "model.compile(loss='categorical_crossentropy', optimizer='adam', metrics=['accuracy'])"
   ]
  },
  {
   "cell_type": "code",
   "execution_count": null,
   "id": "fc67565b",
   "metadata": {
    "execution": {
     "iopub.execute_input": "2022-12-21T08:12:05.451279Z",
     "iopub.status.busy": "2022-12-21T08:12:05.450730Z",
     "iopub.status.idle": "2022-12-21T08:12:05.456687Z",
     "shell.execute_reply": "2022-12-21T08:12:05.457109Z",
     "shell.execute_reply.started": "2022-12-21T07:37:38.097854Z"
    },
    "papermill": {
     "duration": 1.423842,
     "end_time": "2022-12-21T08:12:05.457277",
     "exception": false,
     "start_time": "2022-12-21T08:12:04.033435",
     "status": "completed"
    },
    "tags": []
   },
   "outputs": [],
   "source": [
    "model.summary()"
   ]
  },
  {
   "cell_type": "code",
   "execution_count": null,
   "id": "2878de58",
   "metadata": {},
   "outputs": [],
   "source": [
    "# Model Visualization\n",
    "from tensorflow.keras.utils import plot_model\n",
    "plot_model(model, show_shapes=True, show_layer_names=True)"
   ]
  },
  {
   "cell_type": "code",
   "execution_count": null,
   "id": "ec76fc7b",
   "metadata": {
    "execution": {
     "iopub.execute_input": "2022-12-21T08:12:29.705770Z",
     "iopub.status.busy": "2022-12-21T08:12:29.705177Z",
     "iopub.status.idle": "2022-12-21T08:12:30.639173Z",
     "shell.execute_reply": "2022-12-21T08:12:30.636651Z",
     "shell.execute_reply.started": "2022-12-21T07:37:39.327237Z"
    },
    "papermill": {
     "duration": 2.441356,
     "end_time": "2022-12-21T08:12:30.639665",
     "exception": false,
     "start_time": "2022-12-21T08:12:28.198309",
     "status": "completed"
    },
    "tags": []
   },
   "outputs": [],
   "source": [
    "# Spliting the date into train and test sets\n",
    "from sklearn.model_selection import train_test_split\n",
    "train_x, test_x , train_y, test_y = train_test_split(X, Y, test_size=.3)"
   ]
  },
  {
   "cell_type": "code",
   "execution_count": null,
   "id": "5404fed3",
   "metadata": {
    "execution": {
     "iopub.execute_input": "2022-12-21T08:12:36.188659Z",
     "iopub.status.busy": "2022-12-21T08:12:36.188061Z",
     "iopub.status.idle": "2022-12-21T08:31:22.648933Z",
     "shell.execute_reply": "2022-12-21T08:31:22.649504Z",
     "shell.execute_reply.started": "2022-12-21T07:37:39.813398Z"
    },
    "papermill": {
     "duration": 1127.799244,
     "end_time": "2022-12-21T08:31:22.649701",
     "exception": false,
     "start_time": "2022-12-21T08:12:34.850457",
     "status": "completed"
    },
    "tags": []
   },
   "outputs": [],
   "source": [
    "# run model \n",
    "from tensorflow.keras.callbacks import EarlyStopping\n",
    "history = model.fit(train_x, train_y, epochs=5, batch_batch_size=10*tpu_strategy.num_replicas_in_sync, validation_split=0.15, callbacks=[EarlyStopping(monitor='val_loss', patience=3, min_delta=0.0001)])"
   ]
  },
  {
   "cell_type": "code",
   "execution_count": null,
   "id": "bcd103d5",
   "metadata": {
    "execution": {
     "iopub.execute_input": "2022-12-21T08:31:41.558306Z",
     "iopub.status.busy": "2022-12-21T08:31:41.557459Z",
     "iopub.status.idle": "2022-12-21T08:31:41.732012Z",
     "shell.execute_reply": "2022-12-21T08:31:41.732689Z",
     "shell.execute_reply.started": "2022-12-21T07:56:04.007252Z"
    },
    "papermill": {
     "duration": 3.289102,
     "end_time": "2022-12-21T08:31:41.732845",
     "exception": false,
     "start_time": "2022-12-21T08:31:38.443743",
     "status": "completed"
    },
    "tags": []
   },
   "outputs": [],
   "source": [
    "plt.title('Loss')\n",
    "plt.plot(history.history['loss'], label='train')\n",
    "plt.plot(history.history['val_loss'], label='test')\n",
    "plt.legend()\n",
    "plt.show();"
   ]
  },
  {
   "cell_type": "code",
   "execution_count": null,
   "id": "075c0581",
   "metadata": {
    "execution": {
     "iopub.execute_input": "2022-12-21T08:31:54.277853Z",
     "iopub.status.busy": "2022-12-21T08:31:54.277215Z",
     "iopub.status.idle": "2022-12-21T08:31:54.437707Z",
     "shell.execute_reply": "2022-12-21T08:31:54.438152Z",
     "shell.execute_reply.started": "2022-12-21T07:56:04.208403Z"
    },
    "papermill": {
     "duration": 3.324474,
     "end_time": "2022-12-21T08:31:54.438292",
     "exception": false,
     "start_time": "2022-12-21T08:31:51.113818",
     "status": "completed"
    },
    "tags": []
   },
   "outputs": [],
   "source": [
    "plt.title('Accuracy')\n",
    "plt.plot(history.history['accuracy'], label='train')\n",
    "plt.plot(history.history['val_accuracy'], label='test')\n",
    "plt.legend()\n",
    "plt.show();"
   ]
  },
  {
   "cell_type": "code",
   "execution_count": null,
   "id": "a6d5dcec",
   "metadata": {
    "execution": {
     "iopub.execute_input": "2022-12-21T08:32:13.291614Z",
     "iopub.status.busy": "2022-12-21T08:32:13.290870Z",
     "iopub.status.idle": "2022-12-21T08:33:18.255161Z",
     "shell.execute_reply": "2022-12-21T08:33:18.255627Z",
     "shell.execute_reply.started": "2022-12-21T07:56:04.387818Z"
    },
    "papermill": {
     "duration": 68.122083,
     "end_time": "2022-12-21T08:33:18.255823",
     "exception": false,
     "start_time": "2022-12-21T08:32:10.133740",
     "status": "completed"
    },
    "tags": []
   },
   "outputs": [],
   "source": [
    "#ROC Curve\n",
    "fpr, tpr, _ = roc_curve(test_y.argmax(axis=1),model.predict(test_x).argmax(axis=1), pos_label=2)\n",
    "plt.plot(fpr,tpr)\n",
    "plt.title(\"ROC plot\")\n",
    "plt.ylabel('True Positive Rate')\n",
    "plt.xlabel('False Positive Rate')\n",
    "plt.show()"
   ]
  },
  {
   "cell_type": "code",
   "execution_count": null,
   "id": "97092d97",
   "metadata": {
    "execution": {
     "iopub.execute_input": "2022-12-21T08:33:37.335039Z",
     "iopub.status.busy": "2022-12-21T08:33:37.334493Z",
     "iopub.status.idle": "2022-12-21T08:34:41.219143Z",
     "shell.execute_reply": "2022-12-21T08:34:41.219581Z",
     "shell.execute_reply.started": "2022-12-21T07:57:06.034815Z"
    },
    "papermill": {
     "duration": 66.989554,
     "end_time": "2022-12-21T08:34:41.219719",
     "exception": false,
     "start_time": "2022-12-21T08:33:34.230165",
     "status": "completed"
    },
    "tags": []
   },
   "outputs": [],
   "source": [
    "# Confusion Matrix\n",
    "cm_rm_2 = confusion_matrix((test_y).argmax(axis=1),model.predict(test_x).argmax(axis=1))\n",
    "disp = ConfusionMatrixDisplay(confusion_matrix=cm_rm_2)\n",
    "disp.plot(cmap=plt.cm.Blues)\n",
    "plt.show()"
   ]
  },
  {
   "cell_type": "code",
   "execution_count": null,
   "id": "f5dccb3c",
   "metadata": {
    "execution": {
     "iopub.execute_input": "2022-12-21T08:34:53.686379Z",
     "iopub.status.busy": "2022-12-21T08:34:53.685796Z",
     "iopub.status.idle": "2022-12-21T08:35:57.454971Z",
     "shell.execute_reply": "2022-12-21T08:35:57.455410Z",
     "shell.execute_reply.started": "2022-12-21T07:58:06.530665Z"
    },
    "papermill": {
     "duration": 66.843566,
     "end_time": "2022-12-21T08:35:57.455542",
     "exception": false,
     "start_time": "2022-12-21T08:34:50.611976",
     "status": "completed"
    },
    "tags": []
   },
   "outputs": [],
   "source": [
    "# Classification report\n",
    "from sklearn.metrics import classification_report\n",
    "print(classification_report(test_y.argmax(axis=1),model.predict(test_x).argmax(axis=1)))"
   ]
  }
 ],
 "metadata": {
  "kernelspec": {
   "display_name": "Python 3 (ipykernel)",
   "language": "python",
   "name": "python3"
  },
  "language_info": {
   "codemirror_mode": {
    "name": "ipython",
    "version": 3
   },
   "file_extension": ".py",
   "mimetype": "text/x-python",
   "name": "python",
   "nbconvert_exporter": "python",
   "pygments_lexer": "ipython3",
   "version": "3.9.12"
  },
  "papermill": {
   "default_parameters": {},
   "duration": 1748.992457,
   "end_time": "2022-12-21T08:36:15.767216",
   "environment_variables": {},
   "exception": null,
   "input_path": "__notebook__.ipynb",
   "output_path": "__notebook__.ipynb",
   "parameters": {},
   "start_time": "2022-12-21T08:07:06.774759",
   "version": "2.3.3"
  }
 },
 "nbformat": 4,
 "nbformat_minor": 5
}
